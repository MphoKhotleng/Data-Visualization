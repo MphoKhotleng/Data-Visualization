{
 "cells": [
  {
   "cell_type": "markdown",
   "metadata": {},
   "source": [
    "#### Load Required Libraries"
   ]
  },
  {
   "cell_type": "code",
   "execution_count": 1,
   "metadata": {},
   "outputs": [],
   "source": [
    "import pandas as pd\n",
    "import matplotlib.pyplot as plt\n",
    "%matplotlib inline\n",
    "import seaborn as sns\n",
    "import folium"
   ]
  },
  {
   "cell_type": "code",
   "execution_count": 2,
   "metadata": {},
   "outputs": [],
   "source": [
    "#Create a DataFrame\n",
    "tanz = pd.read_csv('training.csv')"
   ]
  },
  {
   "cell_type": "code",
   "execution_count": 3,
   "metadata": {},
   "outputs": [
    {
     "data": {
      "text/html": [
       "<div>\n",
       "<style scoped>\n",
       "    .dataframe tbody tr th:only-of-type {\n",
       "        vertical-align: middle;\n",
       "    }\n",
       "\n",
       "    .dataframe tbody tr th {\n",
       "        vertical-align: top;\n",
       "    }\n",
       "\n",
       "    .dataframe thead th {\n",
       "        text-align: right;\n",
       "    }\n",
       "</style>\n",
       "<table border=\"1\" class=\"dataframe\">\n",
       "  <thead>\n",
       "    <tr style=\"text-align: right;\">\n",
       "      <th></th>\n",
       "      <th>ID</th>\n",
       "      <th>Q1</th>\n",
       "      <th>Q2</th>\n",
       "      <th>Q3</th>\n",
       "      <th>Q4</th>\n",
       "      <th>Q5</th>\n",
       "      <th>Q6</th>\n",
       "      <th>Q7</th>\n",
       "      <th>Q8_1</th>\n",
       "      <th>Q8_2</th>\n",
       "      <th>...</th>\n",
       "      <th>Q17</th>\n",
       "      <th>Q18</th>\n",
       "      <th>Q19</th>\n",
       "      <th>Latitude</th>\n",
       "      <th>Longitude</th>\n",
       "      <th>mobile_money</th>\n",
       "      <th>savings</th>\n",
       "      <th>borrowing</th>\n",
       "      <th>insurance</th>\n",
       "      <th>mobile_money_classification</th>\n",
       "    </tr>\n",
       "  </thead>\n",
       "  <tbody>\n",
       "    <tr>\n",
       "      <td>0</td>\n",
       "      <td>5086</td>\n",
       "      <td>98</td>\n",
       "      <td>2</td>\n",
       "      <td>3</td>\n",
       "      <td>1</td>\n",
       "      <td>1</td>\n",
       "      <td>2</td>\n",
       "      <td>2</td>\n",
       "      <td>0</td>\n",
       "      <td>0</td>\n",
       "      <td>...</td>\n",
       "      <td>-1</td>\n",
       "      <td>4</td>\n",
       "      <td>4</td>\n",
       "      <td>-4.460442</td>\n",
       "      <td>29.811396</td>\n",
       "      <td>0</td>\n",
       "      <td>0</td>\n",
       "      <td>0</td>\n",
       "      <td>0</td>\n",
       "      <td>0</td>\n",
       "    </tr>\n",
       "    <tr>\n",
       "      <td>1</td>\n",
       "      <td>1258</td>\n",
       "      <td>40</td>\n",
       "      <td>1</td>\n",
       "      <td>1</td>\n",
       "      <td>3</td>\n",
       "      <td>5</td>\n",
       "      <td>1</td>\n",
       "      <td>1</td>\n",
       "      <td>1</td>\n",
       "      <td>0</td>\n",
       "      <td>...</td>\n",
       "      <td>4</td>\n",
       "      <td>1</td>\n",
       "      <td>4</td>\n",
       "      <td>-6.176438</td>\n",
       "      <td>39.244871</td>\n",
       "      <td>1</td>\n",
       "      <td>1</td>\n",
       "      <td>1</td>\n",
       "      <td>0</td>\n",
       "      <td>3</td>\n",
       "    </tr>\n",
       "    <tr>\n",
       "      <td>2</td>\n",
       "      <td>331</td>\n",
       "      <td>18</td>\n",
       "      <td>2</td>\n",
       "      <td>4</td>\n",
       "      <td>6</td>\n",
       "      <td>3</td>\n",
       "      <td>2</td>\n",
       "      <td>1</td>\n",
       "      <td>0</td>\n",
       "      <td>0</td>\n",
       "      <td>...</td>\n",
       "      <td>-1</td>\n",
       "      <td>1</td>\n",
       "      <td>1</td>\n",
       "      <td>-6.825702</td>\n",
       "      <td>37.652798</td>\n",
       "      <td>1</td>\n",
       "      <td>0</td>\n",
       "      <td>0</td>\n",
       "      <td>0</td>\n",
       "      <td>2</td>\n",
       "    </tr>\n",
       "  </tbody>\n",
       "</table>\n",
       "<p>3 rows × 37 columns</p>\n",
       "</div>"
      ],
      "text/plain": [
       "     ID  Q1  Q2  Q3  Q4  Q5  Q6  Q7  Q8_1  Q8_2  ...  Q17  Q18  Q19  Latitude  \\\n",
       "0  5086  98   2   3   1   1   2   2     0     0  ...   -1    4    4 -4.460442   \n",
       "1  1258  40   1   1   3   5   1   1     1     0  ...    4    1    4 -6.176438   \n",
       "2   331  18   2   4   6   3   2   1     0     0  ...   -1    1    1 -6.825702   \n",
       "\n",
       "   Longitude  mobile_money  savings  borrowing  insurance  \\\n",
       "0  29.811396             0        0          0          0   \n",
       "1  39.244871             1        1          1          0   \n",
       "2  37.652798             1        0          0          0   \n",
       "\n",
       "   mobile_money_classification  \n",
       "0                            0  \n",
       "1                            3  \n",
       "2                            2  \n",
       "\n",
       "[3 rows x 37 columns]"
      ]
     },
     "execution_count": 3,
     "metadata": {},
     "output_type": "execute_result"
    }
   ],
   "source": [
    "tanz.head(3)"
   ]
  },
  {
   "cell_type": "markdown",
   "metadata": {},
   "source": [
    "### Rename columns accordingly"
   ]
  },
  {
   "cell_type": "code",
   "execution_count": 4,
   "metadata": {},
   "outputs": [],
   "source": [
    "# Renaming Columns \n",
    "columns_names = {\"Q1\":\"age\", \"Q2\": \"gender\", \"Q3\":\"marital_status\",\n",
    "                 \"Q4\":\"education\", \"Q5\":\"residents\", \"Q6\": \"land_ownership\",\n",
    "                 \"Q7\": \"mobile_phone_ownership\", \"Q8_1\": \"salaries_or_Wages\",\n",
    "                 \"Q8_2\": \"trading\", \"Q8_3\": \"services\", \"Q8_4\": \"piece_work\",\n",
    "                 \"Q8_5\": \"rental_income\", \"Q8_6\": \"interest\", \"Q8_7\": \"pension\",\n",
    "                 \"Q8_8\": \"welfare\", \"Q8_9\": \"rely_on_someone\", \"Q8_10\": \"dependent\",\n",
    "                 \"Q8_11\": \"other\", \"Q9\": \"employeer\", \"Q10\": \"trading_goods\", \n",
    "                 \"Q11\": \"type_of_Service\", \"Q12\":\"sent_money\", \"Q13\": \"transfer_money\",\n",
    "                 \"Q14\": \"received_money\", \"Q15\": \"received_money_days\", \"Q16\":\"usage_goods_services\", \"Q17\":\"usage_bills\",\n",
    "                 \"Q18\": \"literacy_in_kiswhahili\", \"Q19\": \"literacy_in_english\"}\n",
    "\n",
    "tanz = tanz.rename(columns_names, axis=1)\n",
    "\n",
    "# Adding categorical variables\n",
    "gender_names = {1: \"Male\", 2: \"Female\"}\n",
    "tanz[\"Gender\"] = tanz[\"gender\"].map(gender_names)\n",
    "\n",
    "marital_names ={1: \"Married\", 2: \"Divorced\", 3: \"Widowed\", 4: \"Single/Never Married\"}\n",
    "tanz[\"Marital Status\"] = tanz[\"marital_status\"].map(marital_names)\n",
    "\n",
    "education_names = {1: \"No Formal Education\", 2: \"Some Primary\", 3: \"Primary Completed\", 4: \"Post Primary\", 5: \"Some Secondary\", 6: \"University\", 7: \"Don't Know\"}\n",
    "tanz[\"Education\"] = tanz[\"education\"].map(education_names)\n",
    "\n",
    "land_ownership_names = {1: \"Yes\", 2: \"No\"}\n",
    "tanz[\"Land Ownership\"] = tanz[\"land_ownership\"].map(land_ownership_names)\n",
    "\n",
    "usage_goods_services_names = {-1: \"not applicable\", 1: \"Never\", 2: \"Daily\", 3: \"Weekly\", 4: \"Monthly\", 5: \"Less often than monthly\"}\n",
    "tanz[\"Usage Goods Service\"] = tanz[\"usage_goods_services\"].map(usage_goods_services_names)\n",
    "\n",
    "usage_bills_names = {-1: \"not applicable\", 1: \"Never\", 2: \"Daily\", 3: \"Weekly\", 4: \"Monthly\", 5: \"Less often than monthly\"}\n",
    "tanz[\"Usage Bills\"] = tanz[\"usage_bills\"].map(usage_bills_names)\n",
    "\n",
    "mobile_money_classification_names = {0: \"No Mobile Money and no other Financial Service\", 1: \"No Mobile Money, one other financial service\", 2: \"Mobile Money Only\", 3: \"Mobile Money plus\"}\n",
    "tanz[\"Mobile Money Classification\"] = tanz[\"mobile_money_classification\"].map(mobile_money_classification_names)"
   ]
  },
  {
   "cell_type": "code",
   "execution_count": null,
   "metadata": {},
   "outputs": [],
   "source": [
    "col_names =                 {'Q1':'Age',\n",
    "                             'Q2':'Gender',\n",
    "                             'Q3':'Marital_status',\n",
    "                             'Q4':'Level_of_education',\n",
    "                             'Q5':'Land_ownership',\n",
    "                             'Q6':'Other_land_ownership',\n",
    "                             'Q7':'Owning_a_mobile_phone',\n",
    "                             'Q9':'Employer',\n",
    "                             'Q10':'Product_sold',\n",
    "                             'Q11':'Service_provided',\n",
    "                             'Q13':'sending_money_out_date',\n",
    "                             'Q15':'recent_date_money_recieved',\n",
    "                             'Q14':'cash_recieved_non_domestically',\n",
    "                             'Q16':'purchasing_frequency_for_using_mobile_money',\n",
    "                             'Q17':'bill_frequency_for_using_mobile_money','Q18':'Literacy_in_Kiswhahili','Q19':'English_literacy',\n",
    "                             'Q8_1':'Salaries',\n",
    "                             \"Q8_2\":'Trading',\n",
    "                             'Q8_3':'Service',\n",
    "                             'Q8_4':'Casual_work',\n",
    "                             'Q8_5':'Rental',\n",
    "                             'Q8_6':'Interest',\n",
    "                             'Q8_7':'Pension',\n",
    "                             'Q8_8':'Social_welfare',\n",
    "                             'Q8_9':'Dependent',\n",
    "                             'Q8_10':'Dont_get_money',\n",
    "                             'Q8_11':'Other'\n",
    "                              }\n",
    "\n",
    "tanz = tanz.rename(col_names, axis=1)\n",
    "\n",
    "gen = {1: \"Male\", 2: \"Female\"}\n",
    "tanz[\"Gender\"] = tanz[\"gender\"].map(gen)\n",
    "\n",
    "marital_stat ={1: \"Married\", 2: \"Divorced\", 3: \"Widowed\", 4: \"Single/Never Married\"}\n",
    "tanz[\"Marital_status\"] = tanz[\"marital_status\"].map(marital_stat)\n",
    "\n",
    "education_rank = {1: \"No Formal Education\", 2: \"Some Primary\", 3: \"Primary Completed\", 4: \"Post Primary\", 5: \"Some Secondary\", 6: \"University\", 7: \"Don't Know\"}\n",
    "tanz[\"Level_of_education\"] = tanz[\"education\"].map(education_rank)\n",
    "\n",
    "land_ownership = {1: \"Yes\", 2: \"No\"}\n",
    "tanz[\"Land_ownership\"] = tanz[\"land_ownership\"].map(land_ownership)\n",
    "\n",
    "# usage_goods_services = {-1: \"not applicable\", 1: \"Never\", 2: \"Daily\", 3: \"Weekly\", 4: \"Monthly\", 5: \"Less often than monthly\"}\n",
    "# data[\"Usage Goods Service\"] = data[\"usage_goods_services\"].map(usage_goods_services_names)\n",
    "\n",
    "# usage_bills_names = {-1: \"not applicable\", 1: \"Never\", 2: \"Daily\", 3: \"Weekly\", 4: \"Monthly\", 5: \"Less often than monthly\"}\n",
    "# data[\"Usage Bills\"] = data[\"usage_bills\"].map(usage_bills_names)\n",
    "\n",
    "# mobile_money_classification_names = {0: \"No Mobile Money and no other Financial Service\", 1: \"No Mobile Money, one other financial service\", 2: \"Mobile Money Only\", 3: \"Mobile Money plus\"}\n",
    "# data[\"Mobile Money Classification\"] = data[\"mobile_money_classification\"].map(mobile_money_classification_names)"
   ]
  },
  {
   "cell_type": "code",
   "execution_count": 5,
   "metadata": {},
   "outputs": [
    {
     "data": {
      "text/html": [
       "<div>\n",
       "<style scoped>\n",
       "    .dataframe tbody tr th:only-of-type {\n",
       "        vertical-align: middle;\n",
       "    }\n",
       "\n",
       "    .dataframe tbody tr th {\n",
       "        vertical-align: top;\n",
       "    }\n",
       "\n",
       "    .dataframe thead th {\n",
       "        text-align: right;\n",
       "    }\n",
       "</style>\n",
       "<table border=\"1\" class=\"dataframe\">\n",
       "  <thead>\n",
       "    <tr style=\"text-align: right;\">\n",
       "      <th></th>\n",
       "      <th>ID</th>\n",
       "      <th>age</th>\n",
       "      <th>gender</th>\n",
       "      <th>marital_status</th>\n",
       "      <th>education</th>\n",
       "      <th>residents</th>\n",
       "      <th>land_ownership</th>\n",
       "      <th>mobile_phone_ownership</th>\n",
       "      <th>salaries_or_Wages</th>\n",
       "      <th>trading</th>\n",
       "      <th>...</th>\n",
       "      <th>borrowing</th>\n",
       "      <th>insurance</th>\n",
       "      <th>mobile_money_classification</th>\n",
       "      <th>Gender</th>\n",
       "      <th>Marital Status</th>\n",
       "      <th>Education</th>\n",
       "      <th>Land Ownership</th>\n",
       "      <th>Usage Goods Service</th>\n",
       "      <th>Usage Bills</th>\n",
       "      <th>Mobile Money Classification</th>\n",
       "    </tr>\n",
       "  </thead>\n",
       "  <tbody>\n",
       "    <tr>\n",
       "      <td>0</td>\n",
       "      <td>5086</td>\n",
       "      <td>98</td>\n",
       "      <td>2</td>\n",
       "      <td>3</td>\n",
       "      <td>1</td>\n",
       "      <td>1</td>\n",
       "      <td>2</td>\n",
       "      <td>2</td>\n",
       "      <td>0</td>\n",
       "      <td>0</td>\n",
       "      <td>...</td>\n",
       "      <td>0</td>\n",
       "      <td>0</td>\n",
       "      <td>0</td>\n",
       "      <td>Female</td>\n",
       "      <td>Widowed</td>\n",
       "      <td>No Formal Education</td>\n",
       "      <td>No</td>\n",
       "      <td>Never</td>\n",
       "      <td>not applicable</td>\n",
       "      <td>No Mobile Money and no other Financial Service</td>\n",
       "    </tr>\n",
       "    <tr>\n",
       "      <td>1</td>\n",
       "      <td>1258</td>\n",
       "      <td>40</td>\n",
       "      <td>1</td>\n",
       "      <td>1</td>\n",
       "      <td>3</td>\n",
       "      <td>5</td>\n",
       "      <td>1</td>\n",
       "      <td>1</td>\n",
       "      <td>1</td>\n",
       "      <td>0</td>\n",
       "      <td>...</td>\n",
       "      <td>1</td>\n",
       "      <td>0</td>\n",
       "      <td>3</td>\n",
       "      <td>Male</td>\n",
       "      <td>Married</td>\n",
       "      <td>Primary Completed</td>\n",
       "      <td>Yes</td>\n",
       "      <td>Monthly</td>\n",
       "      <td>Monthly</td>\n",
       "      <td>Mobile Money plus</td>\n",
       "    </tr>\n",
       "    <tr>\n",
       "      <td>2</td>\n",
       "      <td>331</td>\n",
       "      <td>18</td>\n",
       "      <td>2</td>\n",
       "      <td>4</td>\n",
       "      <td>6</td>\n",
       "      <td>3</td>\n",
       "      <td>2</td>\n",
       "      <td>1</td>\n",
       "      <td>0</td>\n",
       "      <td>0</td>\n",
       "      <td>...</td>\n",
       "      <td>0</td>\n",
       "      <td>0</td>\n",
       "      <td>2</td>\n",
       "      <td>Female</td>\n",
       "      <td>Single/Never Married</td>\n",
       "      <td>University</td>\n",
       "      <td>No</td>\n",
       "      <td>Never</td>\n",
       "      <td>not applicable</td>\n",
       "      <td>Mobile Money Only</td>\n",
       "    </tr>\n",
       "  </tbody>\n",
       "</table>\n",
       "<p>3 rows × 44 columns</p>\n",
       "</div>"
      ],
      "text/plain": [
       "     ID  age  gender  marital_status  education  residents  land_ownership  \\\n",
       "0  5086   98       2               3          1          1               2   \n",
       "1  1258   40       1               1          3          5               1   \n",
       "2   331   18       2               4          6          3               2   \n",
       "\n",
       "   mobile_phone_ownership  salaries_or_Wages  trading  ...  borrowing  \\\n",
       "0                       2                  0        0  ...          0   \n",
       "1                       1                  1        0  ...          1   \n",
       "2                       1                  0        0  ...          0   \n",
       "\n",
       "   insurance  mobile_money_classification  Gender        Marital Status  \\\n",
       "0          0                            0  Female               Widowed   \n",
       "1          0                            3    Male               Married   \n",
       "2          0                            2  Female  Single/Never Married   \n",
       "\n",
       "             Education  Land Ownership  Usage Goods Service     Usage Bills  \\\n",
       "0  No Formal Education              No                Never  not applicable   \n",
       "1    Primary Completed             Yes              Monthly         Monthly   \n",
       "2           University              No                Never  not applicable   \n",
       "\n",
       "                      Mobile Money Classification  \n",
       "0  No Mobile Money and no other Financial Service  \n",
       "1                               Mobile Money plus  \n",
       "2                               Mobile Money Only  \n",
       "\n",
       "[3 rows x 44 columns]"
      ]
     },
     "execution_count": 5,
     "metadata": {},
     "output_type": "execute_result"
    }
   ],
   "source": [
    "tanz.head(3)"
   ]
  },
  {
   "cell_type": "code",
   "execution_count": null,
   "metadata": {},
   "outputs": [],
   "source": [
    "date = {-1:'N/A',1:'Yesterday/Today',2:'Past 7 days',3:'Past 30 days',4:'Past 90 days',5:'More than 90 days but less than 6 months',6:'6 months or longer'}\n",
    "tanz['sending_money_out_date']=tanz.sending_money_out_date.map(date)"
   ]
  },
  {
   "cell_type": "code",
   "execution_count": null,
   "metadata": {},
   "outputs": [],
   "source": [
    "received = {-1:'N/A',1:'Yesterday/Today',2:'Past 7 days',3:'Past 30 days',4:'Past 90 days',5:'More than 90 days but less than 6 months',6:'6 months or longer'}\n",
    "tanz['recent_date_money_recieved']=tanz.recent_date_money_recieved.map(received)"
   ]
  },
  {
   "cell_type": "code",
   "execution_count": 7,
   "metadata": {},
   "outputs": [
    {
     "data": {
      "text/html": [
       "<div>\n",
       "<style scoped>\n",
       "    .dataframe tbody tr th:only-of-type {\n",
       "        vertical-align: middle;\n",
       "    }\n",
       "\n",
       "    .dataframe tbody tr th {\n",
       "        vertical-align: top;\n",
       "    }\n",
       "\n",
       "    .dataframe thead th {\n",
       "        text-align: right;\n",
       "    }\n",
       "</style>\n",
       "<table border=\"1\" class=\"dataframe\">\n",
       "  <thead>\n",
       "    <tr style=\"text-align: right;\">\n",
       "      <th></th>\n",
       "      <th>ID</th>\n",
       "      <th>age</th>\n",
       "      <th>gender</th>\n",
       "      <th>marital_status</th>\n",
       "      <th>education</th>\n",
       "      <th>residents</th>\n",
       "      <th>land_ownership</th>\n",
       "      <th>mobile_phone_ownership</th>\n",
       "      <th>salaries_or_Wages</th>\n",
       "      <th>trading</th>\n",
       "      <th>...</th>\n",
       "      <th>usage_bills</th>\n",
       "      <th>literacy_in_kiswhahili</th>\n",
       "      <th>literacy_in_english</th>\n",
       "      <th>Latitude</th>\n",
       "      <th>Longitude</th>\n",
       "      <th>mobile_money</th>\n",
       "      <th>savings</th>\n",
       "      <th>borrowing</th>\n",
       "      <th>insurance</th>\n",
       "      <th>mobile_money_classification</th>\n",
       "    </tr>\n",
       "  </thead>\n",
       "  <tbody>\n",
       "    <tr>\n",
       "      <td>count</td>\n",
       "      <td>7094.000000</td>\n",
       "      <td>7094.000000</td>\n",
       "      <td>7094.000000</td>\n",
       "      <td>7094.000000</td>\n",
       "      <td>7094.000000</td>\n",
       "      <td>7094.000000</td>\n",
       "      <td>7094.000000</td>\n",
       "      <td>7094.000000</td>\n",
       "      <td>7094.000000</td>\n",
       "      <td>7094.000000</td>\n",
       "      <td>...</td>\n",
       "      <td>7094.000000</td>\n",
       "      <td>7094.000000</td>\n",
       "      <td>7094.000000</td>\n",
       "      <td>7094.000000</td>\n",
       "      <td>7094.000000</td>\n",
       "      <td>7094.000000</td>\n",
       "      <td>7094.000000</td>\n",
       "      <td>7094.000000</td>\n",
       "      <td>7094.000000</td>\n",
       "      <td>7094.000000</td>\n",
       "    </tr>\n",
       "    <tr>\n",
       "      <td>mean</td>\n",
       "      <td>4742.627291</td>\n",
       "      <td>38.239498</td>\n",
       "      <td>1.559910</td>\n",
       "      <td>1.787426</td>\n",
       "      <td>3.060051</td>\n",
       "      <td>2.548915</td>\n",
       "      <td>1.840569</td>\n",
       "      <td>1.397942</td>\n",
       "      <td>0.062165</td>\n",
       "      <td>0.630110</td>\n",
       "      <td>...</td>\n",
       "      <td>-0.431914</td>\n",
       "      <td>1.860164</td>\n",
       "      <td>3.163378</td>\n",
       "      <td>-6.034378</td>\n",
       "      <td>35.354029</td>\n",
       "      <td>0.553989</td>\n",
       "      <td>0.461517</td>\n",
       "      <td>0.432901</td>\n",
       "      <td>0.151255</td>\n",
       "      <td>1.799267</td>\n",
       "    </tr>\n",
       "    <tr>\n",
       "      <td>std</td>\n",
       "      <td>2731.120086</td>\n",
       "      <td>16.332148</td>\n",
       "      <td>0.496433</td>\n",
       "      <td>1.165160</td>\n",
       "      <td>1.557779</td>\n",
       "      <td>1.534257</td>\n",
       "      <td>0.366103</td>\n",
       "      <td>0.489508</td>\n",
       "      <td>0.241472</td>\n",
       "      <td>0.482809</td>\n",
       "      <td>...</td>\n",
       "      <td>1.489879</td>\n",
       "      <td>1.351372</td>\n",
       "      <td>1.317691</td>\n",
       "      <td>2.720888</td>\n",
       "      <td>2.899511</td>\n",
       "      <td>0.497112</td>\n",
       "      <td>0.498552</td>\n",
       "      <td>0.495512</td>\n",
       "      <td>0.358322</td>\n",
       "      <td>1.196955</td>\n",
       "    </tr>\n",
       "    <tr>\n",
       "      <td>min</td>\n",
       "      <td>1.000000</td>\n",
       "      <td>16.000000</td>\n",
       "      <td>1.000000</td>\n",
       "      <td>1.000000</td>\n",
       "      <td>1.000000</td>\n",
       "      <td>1.000000</td>\n",
       "      <td>1.000000</td>\n",
       "      <td>1.000000</td>\n",
       "      <td>0.000000</td>\n",
       "      <td>0.000000</td>\n",
       "      <td>...</td>\n",
       "      <td>-1.000000</td>\n",
       "      <td>1.000000</td>\n",
       "      <td>1.000000</td>\n",
       "      <td>-11.467463</td>\n",
       "      <td>29.639578</td>\n",
       "      <td>0.000000</td>\n",
       "      <td>0.000000</td>\n",
       "      <td>0.000000</td>\n",
       "      <td>0.000000</td>\n",
       "      <td>0.000000</td>\n",
       "    </tr>\n",
       "    <tr>\n",
       "      <td>25%</td>\n",
       "      <td>2397.250000</td>\n",
       "      <td>25.000000</td>\n",
       "      <td>1.000000</td>\n",
       "      <td>1.000000</td>\n",
       "      <td>2.000000</td>\n",
       "      <td>1.000000</td>\n",
       "      <td>2.000000</td>\n",
       "      <td>1.000000</td>\n",
       "      <td>0.000000</td>\n",
       "      <td>0.000000</td>\n",
       "      <td>...</td>\n",
       "      <td>-1.000000</td>\n",
       "      <td>1.000000</td>\n",
       "      <td>2.000000</td>\n",
       "      <td>-8.275387</td>\n",
       "      <td>32.935429</td>\n",
       "      <td>0.000000</td>\n",
       "      <td>0.000000</td>\n",
       "      <td>0.000000</td>\n",
       "      <td>0.000000</td>\n",
       "      <td>1.000000</td>\n",
       "    </tr>\n",
       "    <tr>\n",
       "      <td>50%</td>\n",
       "      <td>4744.500000</td>\n",
       "      <td>35.000000</td>\n",
       "      <td>2.000000</td>\n",
       "      <td>1.000000</td>\n",
       "      <td>3.000000</td>\n",
       "      <td>3.000000</td>\n",
       "      <td>2.000000</td>\n",
       "      <td>1.000000</td>\n",
       "      <td>0.000000</td>\n",
       "      <td>1.000000</td>\n",
       "      <td>...</td>\n",
       "      <td>-1.000000</td>\n",
       "      <td>1.000000</td>\n",
       "      <td>4.000000</td>\n",
       "      <td>-6.087854</td>\n",
       "      <td>35.073326</td>\n",
       "      <td>1.000000</td>\n",
       "      <td>0.000000</td>\n",
       "      <td>0.000000</td>\n",
       "      <td>0.000000</td>\n",
       "      <td>2.000000</td>\n",
       "    </tr>\n",
       "    <tr>\n",
       "      <td>75%</td>\n",
       "      <td>7105.000000</td>\n",
       "      <td>48.000000</td>\n",
       "      <td>2.000000</td>\n",
       "      <td>3.000000</td>\n",
       "      <td>3.000000</td>\n",
       "      <td>4.000000</td>\n",
       "      <td>2.000000</td>\n",
       "      <td>2.000000</td>\n",
       "      <td>0.000000</td>\n",
       "      <td>1.000000</td>\n",
       "      <td>...</td>\n",
       "      <td>-1.000000</td>\n",
       "      <td>4.000000</td>\n",
       "      <td>4.000000</td>\n",
       "      <td>-3.517053</td>\n",
       "      <td>38.351815</td>\n",
       "      <td>1.000000</td>\n",
       "      <td>1.000000</td>\n",
       "      <td>1.000000</td>\n",
       "      <td>0.000000</td>\n",
       "      <td>3.000000</td>\n",
       "    </tr>\n",
       "    <tr>\n",
       "      <td>max</td>\n",
       "      <td>9459.000000</td>\n",
       "      <td>100.000000</td>\n",
       "      <td>2.000000</td>\n",
       "      <td>4.000000</td>\n",
       "      <td>8.000000</td>\n",
       "      <td>6.000000</td>\n",
       "      <td>2.000000</td>\n",
       "      <td>2.000000</td>\n",
       "      <td>1.000000</td>\n",
       "      <td>1.000000</td>\n",
       "      <td>...</td>\n",
       "      <td>5.000000</td>\n",
       "      <td>5.000000</td>\n",
       "      <td>5.000000</td>\n",
       "      <td>-1.084000</td>\n",
       "      <td>40.258744</td>\n",
       "      <td>1.000000</td>\n",
       "      <td>1.000000</td>\n",
       "      <td>1.000000</td>\n",
       "      <td>1.000000</td>\n",
       "      <td>3.000000</td>\n",
       "    </tr>\n",
       "  </tbody>\n",
       "</table>\n",
       "<p>8 rows × 37 columns</p>\n",
       "</div>"
      ],
      "text/plain": [
       "                ID          age       gender  marital_status    education  \\\n",
       "count  7094.000000  7094.000000  7094.000000     7094.000000  7094.000000   \n",
       "mean   4742.627291    38.239498     1.559910        1.787426     3.060051   \n",
       "std    2731.120086    16.332148     0.496433        1.165160     1.557779   \n",
       "min       1.000000    16.000000     1.000000        1.000000     1.000000   \n",
       "25%    2397.250000    25.000000     1.000000        1.000000     2.000000   \n",
       "50%    4744.500000    35.000000     2.000000        1.000000     3.000000   \n",
       "75%    7105.000000    48.000000     2.000000        3.000000     3.000000   \n",
       "max    9459.000000   100.000000     2.000000        4.000000     8.000000   \n",
       "\n",
       "         residents  land_ownership  mobile_phone_ownership  salaries_or_Wages  \\\n",
       "count  7094.000000     7094.000000             7094.000000        7094.000000   \n",
       "mean      2.548915        1.840569                1.397942           0.062165   \n",
       "std       1.534257        0.366103                0.489508           0.241472   \n",
       "min       1.000000        1.000000                1.000000           0.000000   \n",
       "25%       1.000000        2.000000                1.000000           0.000000   \n",
       "50%       3.000000        2.000000                1.000000           0.000000   \n",
       "75%       4.000000        2.000000                2.000000           0.000000   \n",
       "max       6.000000        2.000000                2.000000           1.000000   \n",
       "\n",
       "           trading  ...  usage_bills  literacy_in_kiswhahili  \\\n",
       "count  7094.000000  ...  7094.000000             7094.000000   \n",
       "mean      0.630110  ...    -0.431914                1.860164   \n",
       "std       0.482809  ...     1.489879                1.351372   \n",
       "min       0.000000  ...    -1.000000                1.000000   \n",
       "25%       0.000000  ...    -1.000000                1.000000   \n",
       "50%       1.000000  ...    -1.000000                1.000000   \n",
       "75%       1.000000  ...    -1.000000                4.000000   \n",
       "max       1.000000  ...     5.000000                5.000000   \n",
       "\n",
       "       literacy_in_english     Latitude    Longitude  mobile_money  \\\n",
       "count          7094.000000  7094.000000  7094.000000   7094.000000   \n",
       "mean              3.163378    -6.034378    35.354029      0.553989   \n",
       "std               1.317691     2.720888     2.899511      0.497112   \n",
       "min               1.000000   -11.467463    29.639578      0.000000   \n",
       "25%               2.000000    -8.275387    32.935429      0.000000   \n",
       "50%               4.000000    -6.087854    35.073326      1.000000   \n",
       "75%               4.000000    -3.517053    38.351815      1.000000   \n",
       "max               5.000000    -1.084000    40.258744      1.000000   \n",
       "\n",
       "           savings    borrowing    insurance  mobile_money_classification  \n",
       "count  7094.000000  7094.000000  7094.000000                  7094.000000  \n",
       "mean      0.461517     0.432901     0.151255                     1.799267  \n",
       "std       0.498552     0.495512     0.358322                     1.196955  \n",
       "min       0.000000     0.000000     0.000000                     0.000000  \n",
       "25%       0.000000     0.000000     0.000000                     1.000000  \n",
       "50%       0.000000     0.000000     0.000000                     2.000000  \n",
       "75%       1.000000     1.000000     0.000000                     3.000000  \n",
       "max       1.000000     1.000000     1.000000                     3.000000  \n",
       "\n",
       "[8 rows x 37 columns]"
      ]
     },
     "execution_count": 7,
     "metadata": {},
     "output_type": "execute_result"
    }
   ],
   "source": [
    "tanz.describe()"
   ]
  },
  {
   "cell_type": "markdown",
   "metadata": {},
   "source": [
    "#### Examining Dataset for any missing values"
   ]
  },
  {
   "cell_type": "code",
   "execution_count": 8,
   "metadata": {},
   "outputs": [
    {
     "data": {
      "text/plain": [
       "ID                             0\n",
       "age                            0\n",
       "gender                         0\n",
       "marital_status                 0\n",
       "education                      0\n",
       "residents                      0\n",
       "land_ownership                 0\n",
       "mobile_phone_ownership         0\n",
       "salaries_or_Wages              0\n",
       "trading                        0\n",
       "services                       0\n",
       "piece_work                     0\n",
       "rental_income                  0\n",
       "interest                       0\n",
       "pension                        0\n",
       "welfare                        0\n",
       "rely_on_someone                0\n",
       "dependent                      0\n",
       "other                          0\n",
       "employeer                      0\n",
       "trading_goods                  0\n",
       "type_of_Service                0\n",
       "sent_money                     0\n",
       "transfer_money                 0\n",
       "received_money                 0\n",
       "received_money_days            0\n",
       "usage_goods_services           0\n",
       "usage_bills                    0\n",
       "literacy_in_kiswhahili         0\n",
       "literacy_in_english            0\n",
       "Latitude                       0\n",
       "Longitude                      0\n",
       "mobile_money                   0\n",
       "savings                        0\n",
       "borrowing                      0\n",
       "insurance                      0\n",
       "mobile_money_classification    0\n",
       "Gender                         0\n",
       "Marital Status                 0\n",
       "Education                      2\n",
       "Land Ownership                 0\n",
       "Usage Goods Service            0\n",
       "Usage Bills                    0\n",
       "Mobile Money Classification    0\n",
       "dtype: int64"
      ]
     },
     "execution_count": 8,
     "metadata": {},
     "output_type": "execute_result"
    }
   ],
   "source": [
    "tanz.isnull().sum()"
   ]
  },
  {
   "cell_type": "markdown",
   "metadata": {},
   "source": [
    "There are no missing values in the dataset. Everything is accounted for."
   ]
  },
  {
   "cell_type": "markdown",
   "metadata": {},
   "source": [
    "#### Financial services accessed."
   ]
  },
  {
   "cell_type": "code",
   "execution_count": 9,
   "metadata": {},
   "outputs": [
    {
     "data": {
      "image/png": "[encoded data removed]",
      "text/plain": [
       "<Figure size 1080x360 with 1 Axes>"
      ]
     },
     "metadata": {
      "needs_background": "light"
     },
     "output_type": "display_data"
    }
   ],
   "source": [
    "plt.figure(figsize=(15,5))\n",
    "fontdict={'fontsize':20}\n",
    "sns.countplot(x='mobile_money_classification',data=tanz)\n",
    "plt.title('Financial services use classification',fontdict=fontdict)\n",
    "plt.show()\n"
   ]
  },
  {
   "cell_type": "markdown",
   "metadata": {},
   "source": [
    "The chart above shows that people use mobile and atleast one other financial service."
   ]
  },
  {
   "cell_type": "markdown",
   "metadata": {},
   "source": [
    "### Financial services classification and Age"
   ]
  },
  {
   "cell_type": "code",
   "execution_count": 11,
   "metadata": {},
   "outputs": [
    {
     "data": {
      "image/png": "[encoded data removed]",
      "text/plain": [
       "<Figure size 1080x432 with 1 Axes>"
      ]
     },
     "metadata": {
      "needs_background": "light"
     },
     "output_type": "display_data"
    }
   ],
   "source": [
    "tanz['age_decade']=tanz.age.apply(lambda x : int(x/10)*10)\n",
    "plt.figure(figsize=(15,6))\n",
    "fontdict={'fontsize':20}\n",
    "sns.countplot(x='age_decade',hue='mobile_money_classification',data = tanz)\n",
    "plt.legend(loc='upper right')\n",
    "plt.title('Relation between the Age group and Financial services',fontdict=fontdict)\n",
    "plt.show()"
   ]
  },
  {
   "cell_type": "markdown",
   "metadata": {},
   "source": [
    "People within the 20 & 30 year old age group mostly use mobile money and another financial service."
   ]
  },
  {
   "cell_type": "markdown",
   "metadata": {},
   "source": [
    "### Financial services classification and Gender"
   ]
  },
  {
   "cell_type": "code",
   "execution_count": 12,
   "metadata": {},
   "outputs": [],
   "source": [
    "gender={1:'Male',2:'Female'}\n",
    "tanz['Gender']=tanz.Gender.map(gender)"
   ]
  },
  {
   "cell_type": "code",
   "execution_count": 13,
   "metadata": {},
   "outputs": [
    {
     "ename": "IndexError",
     "evalue": "too many indices for array",
     "output_type": "error",
     "traceback": [
      "\u001b[0;31m---------------------------------------------------------------------------\u001b[0m",
      "\u001b[0;31mIndexError\u001b[0m                                Traceback (most recent call last)",
      "\u001b[0;32m<ipython-input-13-718cf57ae291>\u001b[0m in \u001b[0;36m<module>\u001b[0;34m\u001b[0m\n\u001b[1;32m      1\u001b[0m \u001b[0mplt\u001b[0m\u001b[0;34m.\u001b[0m\u001b[0mfigure\u001b[0m\u001b[0;34m(\u001b[0m\u001b[0mfigsize\u001b[0m\u001b[0;34m=\u001b[0m\u001b[0;34m(\u001b[0m\u001b[0;36m15\u001b[0m\u001b[0;34m,\u001b[0m\u001b[0;36m5\u001b[0m\u001b[0;34m)\u001b[0m\u001b[0;34m)\u001b[0m\u001b[0;34m\u001b[0m\u001b[0;34m\u001b[0m\u001b[0m\n\u001b[1;32m      2\u001b[0m \u001b[0mfontdict\u001b[0m\u001b[0;34m=\u001b[0m\u001b[0;34m{\u001b[0m\u001b[0;34m'fontsize'\u001b[0m\u001b[0;34m:\u001b[0m\u001b[0;36m20\u001b[0m\u001b[0;34m}\u001b[0m\u001b[0;34m\u001b[0m\u001b[0;34m\u001b[0m\u001b[0m\n\u001b[0;32m----> 3\u001b[0;31m \u001b[0msns\u001b[0m\u001b[0;34m.\u001b[0m\u001b[0mcountplot\u001b[0m\u001b[0;34m(\u001b[0m\u001b[0mx\u001b[0m\u001b[0;34m=\u001b[0m\u001b[0;34m'Gender'\u001b[0m\u001b[0;34m,\u001b[0m\u001b[0mhue\u001b[0m\u001b[0;34m=\u001b[0m\u001b[0;34m'mobile_money_classification'\u001b[0m\u001b[0;34m,\u001b[0m\u001b[0mdata\u001b[0m\u001b[0;34m=\u001b[0m\u001b[0mtanz\u001b[0m\u001b[0;34m)\u001b[0m\u001b[0;34m\u001b[0m\u001b[0;34m\u001b[0m\u001b[0m\n\u001b[0m\u001b[1;32m      4\u001b[0m \u001b[0mplt\u001b[0m\u001b[0;34m.\u001b[0m\u001b[0mlegend\u001b[0m\u001b[0;34m(\u001b[0m\u001b[0mloc\u001b[0m\u001b[0;34m=\u001b[0m\u001b[0;34m'upper right'\u001b[0m\u001b[0;34m)\u001b[0m\u001b[0;34m\u001b[0m\u001b[0;34m\u001b[0m\u001b[0m\n\u001b[1;32m      5\u001b[0m \u001b[0mplt\u001b[0m\u001b[0;34m.\u001b[0m\u001b[0mtitle\u001b[0m\u001b[0;34m(\u001b[0m\u001b[0;34m'Relation between Gender and Financial services used'\u001b[0m\u001b[0;34m,\u001b[0m\u001b[0mfontdict\u001b[0m\u001b[0;34m=\u001b[0m\u001b[0mfontdict\u001b[0m\u001b[0;34m)\u001b[0m\u001b[0;34m\u001b[0m\u001b[0;34m\u001b[0m\u001b[0m\n",
      "\u001b[0;32m~/anaconda3/lib/python3.7/site-packages/seaborn/categorical.py\u001b[0m in \u001b[0;36mcountplot\u001b[0;34m(x, y, hue, data, order, hue_order, orient, color, palette, saturation, dodge, ax, **kwargs)\u001b[0m\n\u001b[1;32m   3558\u001b[0m         \u001b[0max\u001b[0m \u001b[0;34m=\u001b[0m \u001b[0mplt\u001b[0m\u001b[0;34m.\u001b[0m\u001b[0mgca\u001b[0m\u001b[0;34m(\u001b[0m\u001b[0;34m)\u001b[0m\u001b[0;34m\u001b[0m\u001b[0;34m\u001b[0m\u001b[0m\n\u001b[1;32m   3559\u001b[0m \u001b[0;34m\u001b[0m\u001b[0m\n\u001b[0;32m-> 3560\u001b[0;31m     \u001b[0mplotter\u001b[0m\u001b[0;34m.\u001b[0m\u001b[0mplot\u001b[0m\u001b[0;34m(\u001b[0m\u001b[0max\u001b[0m\u001b[0;34m,\u001b[0m \u001b[0mkwargs\u001b[0m\u001b[0;34m)\u001b[0m\u001b[0;34m\u001b[0m\u001b[0;34m\u001b[0m\u001b[0m\n\u001b[0m\u001b[1;32m   3561\u001b[0m     \u001b[0;32mreturn\u001b[0m \u001b[0max\u001b[0m\u001b[0;34m\u001b[0m\u001b[0;34m\u001b[0m\u001b[0m\n\u001b[1;32m   3562\u001b[0m \u001b[0;34m\u001b[0m\u001b[0m\n",
      "\u001b[0;32m~/anaconda3/lib/python3.7/site-packages/seaborn/categorical.py\u001b[0m in \u001b[0;36mplot\u001b[0;34m(self, ax, bar_kws)\u001b[0m\n\u001b[1;32m   1659\u001b[0m     \u001b[0;32mdef\u001b[0m \u001b[0mplot\u001b[0m\u001b[0;34m(\u001b[0m\u001b[0mself\u001b[0m\u001b[0;34m,\u001b[0m \u001b[0max\u001b[0m\u001b[0;34m,\u001b[0m \u001b[0mbar_kws\u001b[0m\u001b[0;34m)\u001b[0m\u001b[0;34m:\u001b[0m\u001b[0;34m\u001b[0m\u001b[0;34m\u001b[0m\u001b[0m\n\u001b[1;32m   1660\u001b[0m         \u001b[0;34m\"\"\"Make the plot.\"\"\"\u001b[0m\u001b[0;34m\u001b[0m\u001b[0;34m\u001b[0m\u001b[0m\n\u001b[0;32m-> 1661\u001b[0;31m         \u001b[0mself\u001b[0m\u001b[0;34m.\u001b[0m\u001b[0mdraw_bars\u001b[0m\u001b[0;34m(\u001b[0m\u001b[0max\u001b[0m\u001b[0;34m,\u001b[0m \u001b[0mbar_kws\u001b[0m\u001b[0;34m)\u001b[0m\u001b[0;34m\u001b[0m\u001b[0;34m\u001b[0m\u001b[0m\n\u001b[0m\u001b[1;32m   1662\u001b[0m         \u001b[0mself\u001b[0m\u001b[0;34m.\u001b[0m\u001b[0mannotate_axes\u001b[0m\u001b[0;34m(\u001b[0m\u001b[0max\u001b[0m\u001b[0;34m)\u001b[0m\u001b[0;34m\u001b[0m\u001b[0;34m\u001b[0m\u001b[0m\n\u001b[1;32m   1663\u001b[0m         \u001b[0;32mif\u001b[0m \u001b[0mself\u001b[0m\u001b[0;34m.\u001b[0m\u001b[0morient\u001b[0m \u001b[0;34m==\u001b[0m \u001b[0;34m\"h\"\u001b[0m\u001b[0;34m:\u001b[0m\u001b[0;34m\u001b[0m\u001b[0;34m\u001b[0m\u001b[0m\n",
      "\u001b[0;32m~/anaconda3/lib/python3.7/site-packages/seaborn/categorical.py\u001b[0m in \u001b[0;36mdraw_bars\u001b[0;34m(self, ax, kws)\u001b[0m\n\u001b[1;32m   1642\u001b[0m                 \u001b[0;31m# Draw the bars\u001b[0m\u001b[0;34m\u001b[0m\u001b[0;34m\u001b[0m\u001b[0;34m\u001b[0m\u001b[0m\n\u001b[1;32m   1643\u001b[0m                 \u001b[0moffpos\u001b[0m \u001b[0;34m=\u001b[0m \u001b[0mbarpos\u001b[0m \u001b[0;34m+\u001b[0m \u001b[0mself\u001b[0m\u001b[0;34m.\u001b[0m\u001b[0mhue_offsets\u001b[0m\u001b[0;34m[\u001b[0m\u001b[0mj\u001b[0m\u001b[0;34m]\u001b[0m\u001b[0;34m\u001b[0m\u001b[0;34m\u001b[0m\u001b[0m\n\u001b[0;32m-> 1644\u001b[0;31m                 barfunc(offpos, self.statistic[:, j], self.nested_width,\n\u001b[0m\u001b[1;32m   1645\u001b[0m                         \u001b[0mcolor\u001b[0m\u001b[0;34m=\u001b[0m\u001b[0mself\u001b[0m\u001b[0;34m.\u001b[0m\u001b[0mcolors\u001b[0m\u001b[0;34m[\u001b[0m\u001b[0mj\u001b[0m\u001b[0;34m]\u001b[0m\u001b[0;34m,\u001b[0m \u001b[0malign\u001b[0m\u001b[0;34m=\u001b[0m\u001b[0;34m\"center\"\u001b[0m\u001b[0;34m,\u001b[0m\u001b[0;34m\u001b[0m\u001b[0;34m\u001b[0m\u001b[0m\n\u001b[1;32m   1646\u001b[0m                         label=hue_level, **kws)\n",
      "\u001b[0;31mIndexError\u001b[0m: too many indices for array"
     ]
    },
    {
     "data": {
      "image/png": "[encoded data removed]",
      "text/plain": [
       "<Figure size 1080x360 with 1 Axes>"
      ]
     },
     "metadata": {
      "needs_background": "light"
     },
     "output_type": "display_data"
    }
   ],
   "source": [
    "plt.figure(figsize=(15,5))\n",
    "fontdict={'fontsize':20}\n",
    "sns.countplot(x='Gender',hue='mobile_money_classification',data=tanz)\n",
    "plt.legend(loc='upper right')\n",
    "plt.title('Relation between Gender and Financial services used',fontdict=fontdict)\n",
    "plt.show()"
   ]
  },
  {
   "cell_type": "markdown",
   "metadata": {},
   "source": [
    "Females use more mobile money than Males."
   ]
  },
  {
   "cell_type": "markdown",
   "metadata": {},
   "source": [
    "### Financial services classification and Marital Status"
   ]
  },
  {
   "cell_type": "code",
   "execution_count": null,
   "metadata": {},
   "outputs": [],
   "source": [
    "status = {1:'Married',2:'Divorced',3:'Widowed',4:'Single'}\n",
    "tanz['Marital_status']=tanz.Marital_status.map(status)"
   ]
  },
  {
   "cell_type": "code",
   "execution_count": null,
   "metadata": {},
   "outputs": [],
   "source": [
    "plt.figure(figsize=(15,5))\n",
    "fontdict={'fontsize':20}\n",
    "sns.countplot(x='Marital_status',hue='mobile_money_classification',data=tanz)\n",
    "plt.title('The relation between Marital status and Financial services used',fontdict=fontdict)\n",
    "plt.show()"
   ]
  },
  {
   "cell_type": "markdown",
   "metadata": {},
   "source": [
    "Married people have the highest occurence of using mobile money and at leats one other service. this could be attributed to the increased responsibility of joint living and family obligations."
   ]
  },
  {
   "cell_type": "markdown",
   "metadata": {},
   "source": [
    "### Financial services classification and Land ownership"
   ]
  },
  {
   "cell_type": "code",
   "execution_count": null,
   "metadata": {},
   "outputs": [],
   "source": [
    "land = {1:'Yes',2:'No'}\n",
    "tanz['Other_land_ownership']=tanz.Other_land_ownership.map(land)"
   ]
  },
  {
   "cell_type": "code",
   "execution_count": null,
   "metadata": {},
   "outputs": [],
   "source": [
    "plt.figure(figsize=(15,5))\n",
    "fontdict={'fontsize':20}\n",
    "sns.countplot(x='Other_land_ownership',hue='mobile_money_classification',data=tanz)\n",
    "plt.title('Relationship between Land ownership and Financial services used',fontdict=fontdict)\n",
    "plt.show()"
   ]
  },
  {
   "cell_type": "markdown",
   "metadata": {},
   "source": [
    "###  Financial services classification and the Types of income"
   ]
  },
  {
   "cell_type": "code",
   "execution_count": null,
   "metadata": {},
   "outputs": [],
   "source": [
    "data_frame = tanz[['mobile_money_classification','Latitude','Longitude','sending_money_out_date','Gender','recent_date_money_recieved','Salaries','Trading','Service','Casual_work','Rental','Interest',\n",
    "                                             'Pension','Social_welfare','Dependent','Dont_get_money','Other']].copy()\n",
    "data_frame_melt = data_frame.melt(id_vars=['mobile_money_classification','Latitude','Longitude','sending_money_out_date','Gender','recent_date_money_recieved'])\n",
    "counts=data_frame_melt[data_frame_melt.value==1]"
   ]
  },
  {
   "cell_type": "code",
   "execution_count": null,
   "metadata": {},
   "outputs": [],
   "source": [
    "plt.figure(figsize=(25,7))\n",
    "fontdict={'fontsize':20}\n",
    "sns.set(font_scale=1.5)\n",
    "sns.countplot(counts.variable,hue= 'mobile_money_classification',data =counts)\n",
    "plt.legend(loc='upper right')\n",
    "plt.title('The relation between the Types of income and Financial services used',fontdict=fontdict)\n",
    "plt.show()"
   ]
  },
  {
   "cell_type": "markdown",
   "metadata": {},
   "source": [
    "## How often are mobile money services used?"
   ]
  },
  {
   "cell_type": "markdown",
   "metadata": {},
   "source": [
    "### How often  Mobile money services are used  and Age"
   ]
  },
  {
   "cell_type": "code",
   "execution_count": null,
   "metadata": {},
   "outputs": [],
   "source": [
    "f, axes = plt.subplots(1, 2,figsize=(30, 10))\n",
    "fontdict={'fontsize':14}\n",
    "sns.set(font_scale=1.5)\n",
    "sns.countplot(x='age_decade',hue='sending_money_out_date',data=tanz, ax= axes[0])\n",
    "sns.countplot(x='age_decade',hue='recent_date_money_recieved',data=tanz,ax =axes[1])\n",
    "axes[0].legend(loc='upper right')\n",
    "axes[1].legend(loc='upper right')\n",
    "axes[0].set_title('The relation between how often money is sent and Age',fontdict=fontdict)\n",
    "axes[1].set_title('The relation between how often money is recieved and Age',fontdict=fontdict)\n",
    "plt.show()"
   ]
  },
  {
   "cell_type": "markdown",
   "metadata": {},
   "source": [
    "*Most people who sent and recieved money are in the age group of 20s in the past 30 days.*"
   ]
  },
  {
   "cell_type": "markdown",
   "metadata": {},
   "source": [
    "###  How often  Mobile money services are used  and Gender"
   ]
  },
  {
   "cell_type": "code",
   "execution_count": null,
   "metadata": {},
   "outputs": [],
   "source": [
    "f, axes = plt.subplots(1, 2,figsize=(20, 10))\n",
    "fontdict={'fontsize':14}\n",
    "sns.set(font_scale=1)\n",
    "sns.countplot(x='Gender',hue='sending_money_out_date',data=tanz, ax = axes[0])\n",
    "sns.countplot(x='Gender',hue='recent_date_money_recieved',data=tanz,ax = axes[1])\n",
    "axes[0].set_title('The relation between how often money is sent and Gender',fontdict=fontdict)\n",
    "axes[1].set_title('The relation between how often money is recieved and Gender',fontdict=fontdict)\n",
    "plt.show()"
   ]
  },
  {
   "cell_type": "markdown",
   "metadata": {},
   "source": [
    "*Most people who sent money are males in the past 30 days.*\n",
    "*Both males and females mostly recieved money in the last 30 days.*"
   ]
  },
  {
   "cell_type": "markdown",
   "metadata": {},
   "source": [
    "###   How often  Mobile money services are used and Maritul status\n"
   ]
  },
  {
   "cell_type": "code",
   "execution_count": null,
   "metadata": {},
   "outputs": [],
   "source": [
    "f, axes = plt.subplots(1, 2,figsize=(20, 6))\n",
    "fontdict={'fontsize':14}\n",
    "sns.set(font_scale=1)\n",
    "sns.countplot(x='Marital_status',hue='sending_money_out_date',data=tanz,ax=axes[0])\n",
    "sns.countplot(x='Marital_status',hue='recent_date_money_recieved',data=tanz,ax=axes[1])\n",
    "axes[0].set_title('The relation between how often money is sent and Marital status',fontdict=fontdict)\n",
    "axes[1].set_title('The relation between how often money is recieved and Marital status',fontdict=fontdict)\n",
    "fontdict={'fontsize': 20,\n",
    "          'weight' : 'bold',\n",
    "         'horizontalalignment': 'center'}\n",
    "plt.show()\n"
   ]
  },
  {
   "cell_type": "markdown",
   "metadata": {},
   "source": [
    "*Mostly married people sent and recieved money in the past 30 days.*"
   ]
  },
  {
   "cell_type": "markdown",
   "metadata": {},
   "source": [
    "### How often  Mobile money services are used  and Land ownership"
   ]
  },
  {
   "cell_type": "code",
   "execution_count": null,
   "metadata": {},
   "outputs": [],
   "source": [
    "f, axes = plt.subplots(1, 2,figsize=(20, 6))\n",
    "fontdict={'fontsize':14}\n",
    "sns.set(font_scale=1)\n",
    "sns.countplot(x='Other_land_ownership',hue='sending_money_out_date',data=tanz,ax=axes[0])\n",
    "sns.countplot(x='Other_land_ownership',hue='recent_date_money_recieved',data=tanz,ax=axes[1])\n",
    "axes[0].set_title('The relation between how often money is sent and Land ownership',fontdict=fontdict)\n",
    "axes[1].set_title('The relation between how often money is recieved and Land ownership',fontdict=fontdict)\n",
    "plt.show()\n"
   ]
  },
  {
   "cell_type": "markdown",
   "metadata": {},
   "source": [
    "### How often  Mobile money services are used  and  the Type of income"
   ]
  },
  {
   "cell_type": "code",
   "execution_count": null,
   "metadata": {},
   "outputs": [],
   "source": [
    "f, axes = plt.subplots(2, 1,figsize=(25, 15))\n",
    "fontdict={'fontsize': 20}\n",
    "sns.set(font_scale=2)\n",
    "sns.countplot(counts.variable,hue='sending_money_out_date',data=counts,ax=axes[0])\n",
    "sns.countplot(counts.variable,hue= 'recent_date_money_recieved',data =counts,ax=axes[1])\n",
    "axes[0].legend(loc='upper right')\n",
    "axes[1].legend(loc='upper right')\n",
    "axes[0].set_title('The relation between how often money is sent and the Type of income',fontdict=fontdict)\n",
    "axes[1].set_title('The relation between how often money is recieved and the Type of income',fontdict=fontdict)\n",
    "\n",
    "plt.show()"
   ]
  },
  {
   "cell_type": "markdown",
   "metadata": {},
   "source": [
    "## 6.Demographic factors associated with mobile money"
   ]
  },
  {
   "cell_type": "code",
   "execution_count": null,
   "metadata": {},
   "outputs": [],
   "source": [
    "a = {1:'Yes',2:'No'}\n",
    "tanz['Owning_a_mobile_phone']=tanz.Owning_a_mobile_phone.map(a)"
   ]
  },
  {
   "cell_type": "code",
   "execution_count": null,
   "metadata": {},
   "outputs": [],
   "source": [
    "b ={-1:'N/A',1:'crops',2:'livestock product',3:'livestock',4:'aquaculture',\n",
    "            5:'Agriculture products',6:'Non agriculture',7:'crafts',8:'collection',9:'processed',10:'other'}\n",
    "tanz['Product_sold']=tanz.Product_sold.map(b)"
   ]
  },
  {
   "cell_type": "code",
   "execution_count": null,
   "metadata": {},
   "outputs": [],
   "source": [
    "f, axes = plt.subplots(2, 1,figsize=(32, 20))\n",
    "fontdict={'fontsize': 20}\n",
    "sns.set(font_scale=2)\n",
    "sns.countplot(x='Owning_a_mobile_phone',hue='mobile_money_classification',data=tanz,ax=axes[0])\n",
    "sns.countplot(x='Product_sold',data=tanz,ax= axes[1])\n",
    "axes[0].legend(loc='upper right')\n",
    "axes[0].set_title('The relation between Owning a mobile phone and using financial services',fontdict=fontdict)\n",
    "axes[1].set_title('The trading products',fontdict=fontdict)\n",
    "plt.show()\n",
    "\n"
   ]
  },
  {
   "cell_type": "code",
   "execution_count": null,
   "metadata": {},
   "outputs": [],
   "source": [
    "c ={1:'no formal education',2:'some primary',3:'primary completed',\n",
    "           4:'post primary',5:'some secondary',6:'higher education',7:'do not know'}\n",
    "tanz['Level_of_education']=tanz.Level_of_education.map(c)"
   ]
  },
  {
   "cell_type": "code",
   "execution_count": null,
   "metadata": {},
   "outputs": [],
   "source": [
    "f, axes = plt.subplots(2, 1,figsize=(30, 20))\n",
    "fontdict={'fontsize':20}\n",
    "sns.set(font_scale=2)\n",
    "sns.countplot(x='Level_of_education',hue='age_decade',data=training_data,ax= axes[0])\n",
    "sns.countplot(counts.variable,hue='Gender',data=counts,ax = axes[1])\n",
    "axes[0].legend(loc='upper right')\n",
    "axes[1].legend(loc='upper right')\n",
    "axes[0].set_title('The relation between Education level and Age',fontdict=fontdict)\n",
    "axes[1].set_title('The relation between Types of income and Gender',fontdict=fontdict)\n",
    "plt.show()"
   ]
  }
 ],
 "metadata": {
  "kernelspec": {
   "display_name": "Python 3",
   "language": "python",
   "name": "python3"
  },
  "language_info": {
   "codemirror_mode": {
    "name": "ipython",
    "version": 3
   },
   "file_extension": ".py",
   "mimetype": "text/x-python",
   "name": "python",
   "nbconvert_exporter": "python",
   "pygments_lexer": "ipython3",
   "version": "3.7.4"
  }
 },
 "nbformat": 4,
 "nbformat_minor": 2
}
